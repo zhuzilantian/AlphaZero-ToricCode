{
 "cells": [
  {
   "cell_type": "code",
   "execution_count": null,
   "id": "19e6c423",
   "metadata": {},
   "outputs": [],
   "source": [
    "import numpy as np\n",
    "import scigym\n",
    "from player import MCTS, AlphaZero\n",
    "from utils import save_record, load_record\n",
    "import matplotlib.pyplot as plt"
   ]
  },
  {
   "cell_type": "markdown",
   "id": "22d34bd9",
   "metadata": {},
   "source": [
    "# Experiments"
   ]
  },
  {
   "cell_type": "code",
   "execution_count": null,
   "id": "5a01ec98",
   "metadata": {},
   "outputs": [],
   "source": [
    "record_dir = \"records/\"\n",
    "model_dir = \"saved_models/\"\n",
    "env_id = \"toricgame-v0\"\n",
    "error_rates = np.linspace(0.02, 0.2, 10).tolist()\n",
    "evaluation_times = 10000"
   ]
  },
  {
   "cell_type": "markdown",
   "id": "99818a7a",
   "metadata": {},
   "source": [
    "## Bit-flip error"
   ]
  },
  {
   "cell_type": "markdown",
   "id": "fc6d06dc",
   "metadata": {},
   "source": [
    "### Board_size = 3"
   ]
  },
  {
   "cell_type": "markdown",
   "id": "50348c30",
   "metadata": {},
   "source": [
    "#### MCTS"
   ]
  },
  {
   "cell_type": "code",
   "execution_count": null,
   "id": "7dc4f39e",
   "metadata": {},
   "outputs": [],
   "source": [
    "simulation_times = 1000\n",
    "\n",
    "KWARGS = {'error_model': 0, 'board_size': 3}\n",
    "env = scigym.make(env_id, **KWARGS)\n",
    "player = MCTS(env, simulation_times)"
   ]
  },
  {
   "cell_type": "code",
   "execution_count": null,
   "id": "67350162",
   "metadata": {},
   "outputs": [],
   "source": [
    "record_path = record_dir + \"mcts_0_3.csv\"\n",
    "\n",
    "evals = []\n",
    "for er in error_rates:\n",
    "    KWARGS = {'error_model': 0, 'board_size': 3, 'error_rate': er}\n",
    "    env = scigym.make(env_id, **KWARGS)\n",
    "    player.env = env\n",
    "    \n",
    "    evals.append(player.evaluation(evaluation_times, multiprocessing=True))\n",
    "    save_record(record_path, evals)"
   ]
  },
  {
   "cell_type": "markdown",
   "id": "833ee8af",
   "metadata": {},
   "source": [
    "#### AlphaZero"
   ]
  },
  {
   "cell_type": "code",
   "execution_count": null,
   "id": "7b1dcce8",
   "metadata": {},
   "outputs": [],
   "source": [
    "simulation_times = 100\n",
    "model_path = model_dir + '0_3.pt'\n",
    "\n",
    "KWARGS = {'error_model': 0, 'board_size': 3}\n",
    "env = scigym.make(env_id, **KWARGS)\n",
    "player = AlphaZero(env, simulation_times, model_path)"
   ]
  },
  {
   "cell_type": "code",
   "execution_count": null,
   "id": "6be7c16b",
   "metadata": {},
   "outputs": [],
   "source": [
    "record_path = record_dir + \"az_0_3.csv\"\n",
    "\n",
    "evals = []\n",
    "for er in error_rates:\n",
    "    KWARGS = {'error_model': 0, 'board_size': 3, 'error_rate': er}\n",
    "    env = scigym.make(env_id, **KWARGS)\n",
    "    player.env = env\n",
    "    \n",
    "    evals.append(player.evaluation(evaluation_times, multiprocessing=True, processes=5))\n",
    "    save_record(record_path, evals)"
   ]
  },
  {
   "cell_type": "markdown",
   "id": "dbe7eec2",
   "metadata": {},
   "source": [
    "### Board_size = 5"
   ]
  },
  {
   "cell_type": "markdown",
   "id": "84b756e9",
   "metadata": {},
   "source": [
    "#### MCTS"
   ]
  },
  {
   "cell_type": "code",
   "execution_count": null,
   "id": "be29a1b0",
   "metadata": {},
   "outputs": [],
   "source": [
    "simulation_times = 1000\n",
    "\n",
    "KWARGS = {'error_model': 0, 'board_size': 5}\n",
    "env = scigym.make(env_id, **KWARGS)\n",
    "player = MCTS(env, simulation_times)"
   ]
  },
  {
   "cell_type": "code",
   "execution_count": null,
   "id": "6d384a9f",
   "metadata": {},
   "outputs": [],
   "source": [
    "record_path = record_dir + \"mcts_0_5.csv\"\n",
    "\n",
    "evals = []\n",
    "for er in error_rates:\n",
    "    KWARGS = {'error_model': 0, 'board_size': 5, 'error_rate': er}\n",
    "    env = scigym.make(env_id, **KWARGS)\n",
    "    player.env = env\n",
    "    \n",
    "    evals.append(player.evaluation(evaluation_times, multiprocessing=True))\n",
    "    save_record(record_path, evals)"
   ]
  },
  {
   "cell_type": "markdown",
   "id": "ad9e7daa",
   "metadata": {},
   "source": [
    "#### AlphaZero"
   ]
  },
  {
   "cell_type": "code",
   "execution_count": null,
   "id": "6eca6b6a",
   "metadata": {},
   "outputs": [],
   "source": [
    "simulation_times = 100\n",
    "model_path = model_dir + '0_5.pt'\n",
    "\n",
    "KWARGS = {'error_model': 0, 'board_size': 5}\n",
    "env = scigym.make(env_id, **KWARGS)\n",
    "player = AlphaZero(env, simulation_times, model_path)"
   ]
  },
  {
   "cell_type": "code",
   "execution_count": null,
   "id": "e118910b",
   "metadata": {},
   "outputs": [],
   "source": [
    "record_path = record_dir + \"az_0_5.csv\"\n",
    "\n",
    "evals = []\n",
    "for er in error_rates:\n",
    "    KWARGS = {'error_model': 0, 'board_size': 5, 'error_rate': er}\n",
    "    player.env = scigym.make(env_id, **KWARGS)\n",
    "    \n",
    "    evals.append(player.evaluation(evaluation_times, multiprocessing=True, processes=5))\n",
    "    save_record(record_path, evals)"
   ]
  },
  {
   "cell_type": "markdown",
   "id": "993cef71",
   "metadata": {},
   "source": [
    "## Depolarizing error"
   ]
  },
  {
   "cell_type": "markdown",
   "id": "e41a64c2",
   "metadata": {},
   "source": [
    "### Board_size = 3"
   ]
  },
  {
   "cell_type": "markdown",
   "id": "45cff660",
   "metadata": {},
   "source": [
    "#### MCTS"
   ]
  },
  {
   "cell_type": "code",
   "execution_count": null,
   "id": "a572f004",
   "metadata": {},
   "outputs": [],
   "source": [
    "simulation_times = 1000\n",
    "\n",
    "KWARGS = {'error_model': 1, 'board_size': 3}\n",
    "env = scigym.make(env_id, **KWARGS)\n",
    "player = MCTS(env, simulation_times)"
   ]
  },
  {
   "cell_type": "code",
   "execution_count": null,
   "id": "0520ebc5",
   "metadata": {},
   "outputs": [],
   "source": [
    "record_path = record_dir + \"mcts_1_3.csv\"\n",
    "\n",
    "evals = []\n",
    "for er in error_rates:\n",
    "    KWARGS = {'error_model': 1, 'board_size': 3, 'error_rate': er}\n",
    "    env = scigym.make(env_id, **KWARGS)\n",
    "    player.env = env\n",
    "    \n",
    "    evals.append(player.evaluation(evaluation_times, multiprocessing=True))\n",
    "    save_record(record_path, evals)"
   ]
  },
  {
   "cell_type": "markdown",
   "id": "03edd4fb",
   "metadata": {},
   "source": [
    "#### AlphaZero"
   ]
  },
  {
   "cell_type": "code",
   "execution_count": null,
   "id": "826aa724",
   "metadata": {},
   "outputs": [],
   "source": [
    "simulation_times = 100\n",
    "model_path = model_dir + '1_3.pt'\n",
    "\n",
    "KWARGS = {'error_model': 1, 'board_size': 3}\n",
    "env = scigym.make(env_id, **KWARGS)\n",
    "player = AlphaZero(env, simulation_times, model_path)"
   ]
  },
  {
   "cell_type": "code",
   "execution_count": null,
   "id": "7c896bb6",
   "metadata": {},
   "outputs": [],
   "source": [
    "record_path = record_dir + \"az_1_3.csv\"\n",
    "\n",
    "evals = []\n",
    "for er in error_rates:\n",
    "    KWARGS = {'error_model': 1, 'board_size': 3, 'error_rate': er}\n",
    "    env = scigym.make(env_id, **KWARGS)\n",
    "    player.env = env\n",
    "    \n",
    "    evals.append(player.evaluation(evaluation_times, multiprocessing=True, processes=5))\n",
    "    save_record(record_path, evals)"
   ]
  },
  {
   "cell_type": "markdown",
   "id": "5c137ef8",
   "metadata": {},
   "source": [
    "### Board_size = 5"
   ]
  },
  {
   "cell_type": "markdown",
   "id": "f9b7ffdb",
   "metadata": {},
   "source": [
    "#### MCTS"
   ]
  },
  {
   "cell_type": "code",
   "execution_count": null,
   "id": "57d6c031",
   "metadata": {},
   "outputs": [],
   "source": [
    "simulation_times = 1000\n",
    "\n",
    "KWARGS = {'error_model': 1, 'board_size': 5}\n",
    "env = scigym.make(env_id, **KWARGS)\n",
    "player = MCTS(env, simulation_times)"
   ]
  },
  {
   "cell_type": "code",
   "execution_count": null,
   "id": "24d1044c",
   "metadata": {},
   "outputs": [],
   "source": [
    "record_path = record_dir + \"mcts_1_5.csv\"\n",
    "\n",
    "evals = []\n",
    "for er in error_rates: \n",
    "    KWARGS = {'error_model': 1, 'board_size': 5, 'error_rate': er}\n",
    "    env = scigym.make(env_id, **KWARGS)\n",
    "    player.env = env\n",
    "    \n",
    "    evals.append(player.evaluation(evaluation_times, multiprocessing=True))\n",
    "    save_record(record_path, evals)"
   ]
  },
  {
   "cell_type": "markdown",
   "id": "dbc14f1c",
   "metadata": {},
   "source": [
    "#### AlphaZero"
   ]
  },
  {
   "cell_type": "code",
   "execution_count": null,
   "id": "d6c952ef",
   "metadata": {},
   "outputs": [],
   "source": [
    "simulation_times = 100\n",
    "model_path = model_dir + '1_5.pt'\n",
    "\n",
    "KWARGS = {'error_model': 1, 'board_size': 5}\n",
    "env = scigym.make(env_id, **KWARGS)\n",
    "player = AlphaZero(env, simulation_times, model_path)"
   ]
  },
  {
   "cell_type": "code",
   "execution_count": null,
   "id": "aa8f4382",
   "metadata": {},
   "outputs": [],
   "source": [
    "record_path = record_dir + \"az_1_5.csv\"\n",
    "\n",
    "evals = []\n",
    "for er in error_rates:   \n",
    "    KWARGS = {'error_model': 1, 'board_size': 5, 'error_rate': er}\n",
    "    env = scigym.make(env_id, **KWARGS)\n",
    "    player.env = env\n",
    "    \n",
    "    evals.append(player.evaluation(evaluation_times, multiprocessing=True, processes=4))\n",
    "    save_record(record_path, evals)"
   ]
  },
  {
   "cell_type": "code",
   "execution_count": null,
   "id": "5923e8ac",
   "metadata": {},
   "outputs": [],
   "source": []
  }
 ],
 "metadata": {
  "kernelspec": {
   "display_name": "Python 3 (ipykernel)",
   "language": "python",
   "name": "python3"
  },
  "language_info": {
   "codemirror_mode": {
    "name": "ipython",
    "version": 3
   },
   "file_extension": ".py",
   "mimetype": "text/x-python",
   "name": "python",
   "nbconvert_exporter": "python",
   "pygments_lexer": "ipython3",
   "version": "3.7.16"
  }
 },
 "nbformat": 4,
 "nbformat_minor": 5
}
