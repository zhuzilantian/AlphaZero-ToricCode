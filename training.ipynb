{
 "cells": [
  {
   "cell_type": "code",
   "execution_count": null,
   "id": "0d9367fe",
   "metadata": {},
   "outputs": [],
   "source": [
    "import numpy as np\n",
    "import scigym\n",
    "from player import AlphaZero\n",
    "from utils import save_record"
   ]
  },
  {
   "cell_type": "code",
   "execution_count": null,
   "id": "7b387483",
   "metadata": {},
   "outputs": [],
   "source": [
    "model_dir = \"saved_models/\"\n",
    "record_dir = 'records/'\n",
    "env_id = \"toricgame-v0\""
   ]
  },
  {
   "cell_type": "markdown",
   "id": "4503d560",
   "metadata": {},
   "source": [
    "# Different learning rates"
   ]
  },
  {
   "cell_type": "code",
   "execution_count": null,
   "id": "df003be3",
   "metadata": {},
   "outputs": [],
   "source": [
    "simulation_times = 1000\n",
    "epochs = 1000\n",
    "error_rate = 0.01"
   ]
  },
  {
   "cell_type": "markdown",
   "id": "4429b390",
   "metadata": {},
   "source": [
    "## lr = 0.01"
   ]
  },
  {
   "cell_type": "code",
   "execution_count": null,
   "id": "1d11a870",
   "metadata": {},
   "outputs": [],
   "source": [
    "model_path = model_dir + '0_3_001.pt'\n",
    "record_path = record_dir + 'loss_0_3_001.csv'\n",
    "lr = 0.01\n",
    "\n",
    "KWARGS = {'error_model': 0, 'board_size': 3, 'error_rate': error_rate}\n",
    "env = scigym.make(env_id, **KWARGS)\n",
    "player = AlphaZero(env, simulation_times, model_path)\n",
    "loss = player.train(epochs, lr)\n",
    "save_record(record_path, loss)"
   ]
  },
  {
   "cell_type": "code",
   "execution_count": null,
   "id": "fae327c8",
   "metadata": {},
   "outputs": [],
   "source": [
    "model_path = model_dir + '1_3_001.pt'\n",
    "record_path = record_dir + 'loss_1_3_001.csv'\n",
    "lr = 0.01\n",
    "\n",
    "KWARGS = {'error_model': 1, 'board_size': 3, 'error_rate': error_rate}\n",
    "env = scigym.make(env_id, **KWARGS)\n",
    "player = AlphaZero(env, simulation_times, model_path)\n",
    "loss = player.train(epochs, lr)\n",
    "save_record(record_path, loss)"
   ]
  },
  {
   "cell_type": "markdown",
   "id": "cb4d3f29",
   "metadata": {},
   "source": [
    "## lr = 0.05"
   ]
  },
  {
   "cell_type": "code",
   "execution_count": null,
   "id": "d06509df",
   "metadata": {},
   "outputs": [],
   "source": [
    "model_path = model_dir + '0_3_005.pt'\n",
    "record_path = record_dir + 'loss_0_3_005.csv'\n",
    "lr = 0.05\n",
    "\n",
    "KWARGS = {'error_model': 0, 'board_size': 3, 'error_rate': error_rate}\n",
    "env = scigym.make(env_id, **KWARGS)\n",
    "player = AlphaZero(env, simulation_times, model_path)\n",
    "loss = player.train(epochs, lr)\n",
    "save_record(record_path, loss)"
   ]
  },
  {
   "cell_type": "code",
   "execution_count": null,
   "id": "336070d3",
   "metadata": {},
   "outputs": [],
   "source": [
    "model_path = model_dir + '1_3_005.pt'\n",
    "record_path = record_dir + 'loss_1_3_005.csv'\n",
    "lr = 0.05\n",
    "\n",
    "KWARGS = {'error_model': 1, 'board_size': 3, 'error_rate': error_rate}\n",
    "env = scigym.make(env_id, **KWARGS)\n",
    "player = AlphaZero(env, simulation_times, model_path)\n",
    "loss = player.train(epochs, lr)\n",
    "save_record(record_path, loss)"
   ]
  },
  {
   "cell_type": "markdown",
   "id": "ec9c3afd",
   "metadata": {},
   "source": [
    "### lr = 0.1"
   ]
  },
  {
   "cell_type": "code",
   "execution_count": null,
   "id": "f13ff672",
   "metadata": {},
   "outputs": [],
   "source": [
    "model_path = model_dir + '0_3_010.pt'\n",
    "record_path = record_dir + 'loss_0_3_010.csv'\n",
    "lr = 0.1\n",
    "\n",
    "KWARGS = {'error_model': 0, 'board_size': 3, 'error_rate': error_rate}\n",
    "env = scigym.make(env_id, **KWARGS)\n",
    "player = AlphaZero(env, simulation_times, model_path)\n",
    "loss = player.train(epochs, lr)\n",
    "save_record(record_path, loss)"
   ]
  },
  {
   "cell_type": "code",
   "execution_count": null,
   "id": "2e5f5447",
   "metadata": {},
   "outputs": [],
   "source": [
    "model_path = model_dir + '1_3_010.pt'\n",
    "record_path = record_dir + 'loss_1_3_010.csv'\n",
    "lr = 0.1\n",
    "\n",
    "KWARGS = {'error_model': 1, 'board_size': 3, 'error_rate': error_rate}\n",
    "env = scigym.make(env_id, **KWARGS)\n",
    "player = AlphaZero(env, simulation_times, model_path)\n",
    "loss = player.train(epochs, lr)\n",
    "save_record(record_path, loss)"
   ]
  },
  {
   "cell_type": "markdown",
   "id": "e7d9655f",
   "metadata": {},
   "source": [
    "### lr = 0.15"
   ]
  },
  {
   "cell_type": "code",
   "execution_count": null,
   "id": "e994784c",
   "metadata": {},
   "outputs": [],
   "source": [
    "model_path = model_dir + '0_3_015.pt'\n",
    "record_path = record_dir + 'loss_0_3_015.csv'\n",
    "lr = 0.15\n",
    "\n",
    "KWARGS = {'error_model': 0, 'board_size': 3, 'error_rate': error_rate}\n",
    "env = scigym.make(env_id, **KWARGS)\n",
    "player = AlphaZero(env, simulation_times, model_path)\n",
    "loss = player.train(epochs, lr)\n",
    "save_record(record_path, loss)"
   ]
  },
  {
   "cell_type": "code",
   "execution_count": null,
   "id": "56743d2d",
   "metadata": {},
   "outputs": [],
   "source": [
    "model_path = model_dir + '1_3_015.pt'\n",
    "record_path = record_dir + 'loss_1_3_015.csv'\n",
    "lr = 0.15\n",
    "\n",
    "KWARGS = {'error_model': 1, 'board_size': 3, 'error_rate': error_rate}\n",
    "env = scigym.make(env_id, **KWARGS)\n",
    "player = AlphaZero(env, simulation_times, model_path)\n",
    "loss = player.train(epochs, lr)\n",
    "save_record(record_path, loss)"
   ]
  },
  {
   "cell_type": "markdown",
   "id": "11640ee9",
   "metadata": {},
   "source": [
    "### lr = 0.2"
   ]
  },
  {
   "cell_type": "code",
   "execution_count": null,
   "id": "f95b486c",
   "metadata": {},
   "outputs": [],
   "source": [
    "model_path = model_dir + '0_3_020.pt'\n",
    "record_path = record_dir + 'loss_0_3_020.csv'\n",
    "lr = 0.2\n",
    "\n",
    "KWARGS = {'error_model': 0, 'board_size': 3, 'error_rate': error_rate}\n",
    "env = scigym.make(env_id, **KWARGS)\n",
    "player = AlphaZero(env, simulation_times, model_path)\n",
    "loss = player.train(epochs, lr)\n",
    "save_record(record_path, loss)"
   ]
  },
  {
   "cell_type": "code",
   "execution_count": null,
   "id": "98d9b7da",
   "metadata": {},
   "outputs": [],
   "source": [
    "model_path = model_dir + '1_3_020.pt'\n",
    "record_path = record_dir + 'loss_1_3_020.csv'\n",
    "lr = 0.2\n",
    "\n",
    "KWARGS = {'error_model': 1, 'board_size': 3, 'error_rate': error_rate}\n",
    "env = scigym.make(env_id, **KWARGS)\n",
    "player = AlphaZero(env, simulation_times, model_path)\n",
    "loss = player.train(epochs, lr)\n",
    "save_record(record_path, loss)"
   ]
  },
  {
   "cell_type": "markdown",
   "id": "d562d372",
   "metadata": {},
   "source": [
    "### lr = 0.25"
   ]
  },
  {
   "cell_type": "code",
   "execution_count": null,
   "id": "5f7ef125",
   "metadata": {},
   "outputs": [],
   "source": [
    "model_path = model_dir + '0_3_025.pt'\n",
    "record_path = record_dir + 'loss_0_3_025.csv'\n",
    "lr = 0.25\n",
    "\n",
    "KWARGS = {'error_model': 0, 'board_size': 3, 'error_rate': error_rate}\n",
    "env = scigym.make(env_id, **KWARGS)\n",
    "player = AlphaZero(env, simulation_times, model_path)\n",
    "loss = player.train(epochs, lr)\n",
    "save_record(record_path, loss)"
   ]
  },
  {
   "cell_type": "code",
   "execution_count": null,
   "id": "1a783707",
   "metadata": {},
   "outputs": [],
   "source": [
    "model_path = model_dir + '1_3_025.pt'\n",
    "record_path = record_dir + 'loss_1_3_025.csv'\n",
    "lr = 0.25\n",
    "\n",
    "KWARGS = {'error_model': 1, 'board_size': 3, 'error_rate': error_rate}\n",
    "env = scigym.make(env_id, **KWARGS)\n",
    "player = AlphaZero(env, simulation_times, model_path)\n",
    "loss = player.train(epochs, lr)\n",
    "save_record(record_path, loss)"
   ]
  },
  {
   "cell_type": "markdown",
   "id": "87e74f91",
   "metadata": {},
   "source": [
    "# Training"
   ]
  },
  {
   "cell_type": "markdown",
   "id": "007bd1ce",
   "metadata": {},
   "source": [
    "## Bit-flip error"
   ]
  },
  {
   "cell_type": "markdown",
   "id": "1afa239b",
   "metadata": {},
   "source": [
    "### Broad_size = 3"
   ]
  },
  {
   "cell_type": "code",
   "execution_count": null,
   "id": "93094b3c",
   "metadata": {},
   "outputs": [],
   "source": [
    "simulation_times = 1000\n",
    "model_path = model_dir + '0_3.pt'\n",
    "\n",
    "KWARGS = {'error_model': 0, 'board_size': 3}\n",
    "env = scigym.make(env_id, **KWARGS)\n",
    "player = AlphaZero(env, simulation_times, model_path)"
   ]
  },
  {
   "cell_type": "code",
   "execution_count": null,
   "id": "1d675235",
   "metadata": {},
   "outputs": [],
   "source": [
    "error_rates = np.linspace(0.02, 0.2, 10).tolist()\n",
    "epochs = 1000\n",
    "lr = 0.1\n",
    "\n",
    "for er in error_rates:\n",
    "    KWARGS = {'error_model': 0, 'board_size': 3, 'error_rate': er}\n",
    "    env = scigym.make(env_id, **KWARGS)\n",
    "    player.env = env\n",
    "    \n",
    "    player.train(epochs, lr)"
   ]
  },
  {
   "cell_type": "markdown",
   "id": "a38ed085",
   "metadata": {},
   "source": [
    "### Broad_size = 5"
   ]
  },
  {
   "cell_type": "code",
   "execution_count": null,
   "id": "53bffbc9",
   "metadata": {},
   "outputs": [],
   "source": [
    "simulation_times = 1000\n",
    "model_path = model_dir + '0_5.pt'\n",
    "\n",
    "KWARGS = {'error_model': 0, 'board_size': 5}\n",
    "env = scigym.make(env_id, **KWARGS)\n",
    "player = AlphaZero(env, simulation_times, model_path)"
   ]
  },
  {
   "cell_type": "code",
   "execution_count": null,
   "id": "8da8a611",
   "metadata": {},
   "outputs": [],
   "source": [
    "error_rates = np.linspace(0.02, 0.2, 10).tolist()\n",
    "epochs = 1000\n",
    "lr = 0.1\n",
    "\n",
    "for er in error_rates:\n",
    "    KWARGS = {'error_model': 0, 'board_size': 5, 'error_rate': er}\n",
    "    env = scigym.make(env_id, **KWARGS)\n",
    "    player.env = env\n",
    "    \n",
    "    player.train(epochs, lr)"
   ]
  },
  {
   "cell_type": "markdown",
   "id": "f4d835c0",
   "metadata": {},
   "source": [
    "## Depolarizing error"
   ]
  },
  {
   "cell_type": "markdown",
   "id": "7026915d",
   "metadata": {},
   "source": [
    "### Broad_size = 3"
   ]
  },
  {
   "cell_type": "code",
   "execution_count": null,
   "id": "aa57cf04",
   "metadata": {},
   "outputs": [],
   "source": [
    "simulation_times = 1000\n",
    "model_path = model_dir + '1_3.pt'\n",
    "\n",
    "KWARGS = {'error_model': 1, 'board_size': 3}\n",
    "env = scigym.make(env_id, **KWARGS)\n",
    "player = AlphaZero(env, simulation_times, model_path)"
   ]
  },
  {
   "cell_type": "code",
   "execution_count": null,
   "id": "defb8933",
   "metadata": {},
   "outputs": [],
   "source": [
    "error_rates = np.linspace(0.02, 0.2, 10).tolist()\n",
    "epochs = 1000\n",
    "lr = 0.1\n",
    "\n",
    "for er in error_rates:\n",
    "    KWARGS = {'error_model': 1, 'board_size': 3, 'error_rate': er}\n",
    "    env = scigym.make(env_id, **KWARGS)\n",
    "    player.env = env\n",
    "    \n",
    "    player.train(epochs, lr)"
   ]
  },
  {
   "cell_type": "markdown",
   "id": "e9541c2d",
   "metadata": {},
   "source": [
    "### Broad_size = 5"
   ]
  },
  {
   "cell_type": "code",
   "execution_count": null,
   "id": "89c4e861",
   "metadata": {},
   "outputs": [],
   "source": [
    "simulation_times = 1000\n",
    "model_path = model_dir + '1_5.pt'\n",
    "\n",
    "KWARGS = {'error_model': 1, 'board_size': 5}\n",
    "env = scigym.make(env_id, **KWARGS)\n",
    "player = AlphaZero(env, simulation_times, model_path)"
   ]
  },
  {
   "cell_type": "code",
   "execution_count": null,
   "id": "2b2e2821",
   "metadata": {},
   "outputs": [],
   "source": [
    "error_rates = np.linspace(0.005, 0.2, 11).tolist()\n",
    "epochs = 1000\n",
    "lr = 0.2\n",
    "\n",
    "for er in error_rates:\n",
    "    KWARGS = {'error_model': 1, 'board_size': 5, 'error_rate': er}\n",
    "    env = scigym.make(env_id, **KWARGS)\n",
    "    player.env = env\n",
    "    \n",
    "    player.train(epochs, lr)"
   ]
  },
  {
   "cell_type": "code",
   "execution_count": null,
   "id": "e360b003",
   "metadata": {},
   "outputs": [],
   "source": []
  }
 ],
 "metadata": {
  "kernelspec": {
   "display_name": "Python 3 (ipykernel)",
   "language": "python",
   "name": "python3"
  },
  "language_info": {
   "codemirror_mode": {
    "name": "ipython",
    "version": 3
   },
   "file_extension": ".py",
   "mimetype": "text/x-python",
   "name": "python",
   "nbconvert_exporter": "python",
   "pygments_lexer": "ipython3",
   "version": "3.7.16"
  }
 },
 "nbformat": 4,
 "nbformat_minor": 5
}
